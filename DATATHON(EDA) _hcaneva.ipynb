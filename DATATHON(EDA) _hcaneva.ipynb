{
 "cells": [
  {
   "cell_type": "markdown",
   "metadata": {},
   "source": [
    "# Datathon\n",
    "\n",
    "## Logística del comercio mundial\n",
    "\n",
    "La logística es un mercado vital en el mundo globalizado y conectado donde vivimos, coordinar el transporte de toda la cadena de suministros desde donde son producidos los bienes hasta que llegan al cliente final es una tarea compleja, que debe ser planificada y ejecutada correctamente para el funcionamiento del comercio, tanto local como mundial. \n",
    "\n",
    "Gracias a las nuevas herramientas como el uso de geolocalizadores, registros digitales de entrada/salida de los centros de distribución, distintos medios de transporte terrestres, marítimos y aéreos, además de las herramientas de IoT en toda la cadena de suministro y producción, es posible acumular muchísimos datos, que pueden ser analizados para optimizar los procesos logísticos.\n",
    "\n",
    "## Descripción del problema\n",
    "\n",
    "Somos parte de una empresa de logística que trabaja para un portal importante de E-Commerce, y nuestro Team Leader nos da la tarea de implementar un modelo que nos permita predecir si un envío llegará a tiempo o no, según la información contenida en el dataset puesto a disposición para poder prestar atención y mejor seguimiento a aquellos envíos que pueden llegar a dar problemas.\n",
    "\n",
    "## Entrega\n",
    "Deben tener el código en un archivo .py o un Jupyter Notebook .ipynb. Debe incluir un buen análisis EDA, feature engineerging explicar paso a paso en el notebook qué hicieron y por qué o adjuntar documentación en archivo PDF o presentación. Es obligatorio que el script genere un archivo .csv sólo con las predicciones, una columna que debe llamarse 'pred' y tenga todos los valores de las predicciones, un valor por fila. De no llamarse así la columna, nuestro script de validación NO LO VA A TOMAR. El nombre del archivo debe ser su usuario de github, si su usuario de github es 'pjr95', el archivo .csv con las predicciones debe llamarse 'pjr95.csv'. Vamos a validar tanto los datos que suban como el código."
   ]
  },
  {
   "cell_type": "markdown",
   "metadata": {},
   "source": [
    "## Carga de datos\n",
    "\n",
    "El archivo a utilizar para entrenar nuestro modelo es el archivo: \"E-Commerce_train.xlsx\""
   ]
  },
  {
   "cell_type": "code",
   "execution_count": 1,
   "metadata": {},
   "outputs": [
    {
     "data": {
      "text/html": [
       "<div>\n",
       "<style scoped>\n",
       "    .dataframe tbody tr th:only-of-type {\n",
       "        vertical-align: middle;\n",
       "    }\n",
       "\n",
       "    .dataframe tbody tr th {\n",
       "        vertical-align: top;\n",
       "    }\n",
       "\n",
       "    .dataframe thead th {\n",
       "        text-align: right;\n",
       "    }\n",
       "</style>\n",
       "<table border=\"1\" class=\"dataframe\">\n",
       "  <thead>\n",
       "    <tr style=\"text-align: right;\">\n",
       "      <th></th>\n",
       "      <th>ID</th>\n",
       "      <th>Warehouse_block</th>\n",
       "      <th>Mode_of_Shipment</th>\n",
       "      <th>Customer_care_calls</th>\n",
       "      <th>Customer_rating</th>\n",
       "      <th>Cost_of_the_Product</th>\n",
       "      <th>Prior_purchases</th>\n",
       "      <th>Product_importance</th>\n",
       "      <th>Gender</th>\n",
       "      <th>Discount_offered</th>\n",
       "      <th>Weight_in_gms</th>\n",
       "      <th>Reached.on.Time_Y.N</th>\n",
       "    </tr>\n",
       "  </thead>\n",
       "  <tbody>\n",
       "    <tr>\n",
       "      <th>0</th>\n",
       "      <td>1</td>\n",
       "      <td>D</td>\n",
       "      <td>Flight</td>\n",
       "      <td>4</td>\n",
       "      <td>2</td>\n",
       "      <td>177</td>\n",
       "      <td>3</td>\n",
       "      <td>low</td>\n",
       "      <td>F</td>\n",
       "      <td>44</td>\n",
       "      <td>1233</td>\n",
       "      <td>1</td>\n",
       "    </tr>\n",
       "    <tr>\n",
       "      <th>1</th>\n",
       "      <td>2</td>\n",
       "      <td>F</td>\n",
       "      <td>Flight</td>\n",
       "      <td>4</td>\n",
       "      <td>5</td>\n",
       "      <td>216</td>\n",
       "      <td>2</td>\n",
       "      <td>low</td>\n",
       "      <td>M</td>\n",
       "      <td>59</td>\n",
       "      <td>3088</td>\n",
       "      <td>1</td>\n",
       "    </tr>\n",
       "    <tr>\n",
       "      <th>2</th>\n",
       "      <td>3</td>\n",
       "      <td>A</td>\n",
       "      <td>Flight</td>\n",
       "      <td>2</td>\n",
       "      <td>2</td>\n",
       "      <td>183</td>\n",
       "      <td>4</td>\n",
       "      <td>low</td>\n",
       "      <td>M</td>\n",
       "      <td>48</td>\n",
       "      <td>3374</td>\n",
       "      <td>1</td>\n",
       "    </tr>\n",
       "    <tr>\n",
       "      <th>3</th>\n",
       "      <td>4</td>\n",
       "      <td>B</td>\n",
       "      <td>Flight</td>\n",
       "      <td>3</td>\n",
       "      <td>3</td>\n",
       "      <td>176</td>\n",
       "      <td>4</td>\n",
       "      <td>medium</td>\n",
       "      <td>M</td>\n",
       "      <td>10</td>\n",
       "      <td>1177</td>\n",
       "      <td>1</td>\n",
       "    </tr>\n",
       "    <tr>\n",
       "      <th>4</th>\n",
       "      <td>5</td>\n",
       "      <td>C</td>\n",
       "      <td>Flight</td>\n",
       "      <td>2</td>\n",
       "      <td>2</td>\n",
       "      <td>184</td>\n",
       "      <td>3</td>\n",
       "      <td>medium</td>\n",
       "      <td>F</td>\n",
       "      <td>46</td>\n",
       "      <td>2484</td>\n",
       "      <td>1</td>\n",
       "    </tr>\n",
       "  </tbody>\n",
       "</table>\n",
       "</div>"
      ],
      "text/plain": [
       "   ID Warehouse_block Mode_of_Shipment  Customer_care_calls  Customer_rating  \\\n",
       "0   1               D           Flight                    4                2   \n",
       "1   2               F           Flight                    4                5   \n",
       "2   3               A           Flight                    2                2   \n",
       "3   4               B           Flight                    3                3   \n",
       "4   5               C           Flight                    2                2   \n",
       "\n",
       "   Cost_of_the_Product  Prior_purchases Product_importance Gender  \\\n",
       "0                  177                3                low      F   \n",
       "1                  216                2                low      M   \n",
       "2                  183                4                low      M   \n",
       "3                  176                4             medium      M   \n",
       "4                  184                3             medium      F   \n",
       "\n",
       "   Discount_offered  Weight_in_gms  Reached.on.Time_Y.N  \n",
       "0                44           1233                    1  \n",
       "1                59           3088                    1  \n",
       "2                48           3374                    1  \n",
       "3                10           1177                    1  \n",
       "4                46           2484                    1  "
      ]
     },
     "execution_count": 1,
     "metadata": {},
     "output_type": "execute_result"
    }
   ],
   "source": [
    "import pandas as pd\n",
    "\n",
    "#cargo la info al dataframe\n",
    "\n",
    "df = pd.read_excel(\"E-Commerce_train.xlsx\") \n",
    "\n",
    "#imprimo el dataframe\n",
    "\n",
    "df.head()"
   ]
  },
  {
   "cell_type": "markdown",
   "metadata": {},
   "source": [
    "## Veamos la informacion del dataframe, buscamos datos nulos y duplicados.\n",
    "-Contiene 12 columnas y 8999 registros.<br>\n",
    "-No hay registros nulos.<br>\n",
    "-No hay registros duplicados."
   ]
  },
  {
   "cell_type": "code",
   "execution_count": 2,
   "metadata": {},
   "outputs": [
    {
     "name": "stdout",
     "output_type": "stream",
     "text": [
      "<class 'pandas.core.frame.DataFrame'>\n",
      "RangeIndex: 8999 entries, 0 to 8998\n",
      "Data columns (total 12 columns):\n",
      " #   Column               Non-Null Count  Dtype \n",
      "---  ------               --------------  ----- \n",
      " 0   ID                   8999 non-null   int64 \n",
      " 1   Warehouse_block      8999 non-null   object\n",
      " 2   Mode_of_Shipment     8999 non-null   object\n",
      " 3   Customer_care_calls  8999 non-null   int64 \n",
      " 4   Customer_rating      8999 non-null   int64 \n",
      " 5   Cost_of_the_Product  8999 non-null   int64 \n",
      " 6   Prior_purchases      8999 non-null   int64 \n",
      " 7   Product_importance   8999 non-null   object\n",
      " 8   Gender               8999 non-null   object\n",
      " 9   Discount_offered     8999 non-null   int64 \n",
      " 10  Weight_in_gms        8999 non-null   int64 \n",
      " 11  Reached.on.Time_Y.N  8999 non-null   int64 \n",
      "dtypes: int64(8), object(4)\n",
      "memory usage: 843.8+ KB\n"
     ]
    }
   ],
   "source": [
    "#nos devuleve la info del dataframe\n",
    "\n",
    "df.info()"
   ]
  },
  {
   "cell_type": "code",
   "execution_count": 3,
   "metadata": {},
   "outputs": [
    {
     "data": {
      "text/plain": [
       "ID                     0\n",
       "Warehouse_block        0\n",
       "Mode_of_Shipment       0\n",
       "Customer_care_calls    0\n",
       "Customer_rating        0\n",
       "Cost_of_the_Product    0\n",
       "Prior_purchases        0\n",
       "Product_importance     0\n",
       "Gender                 0\n",
       "Discount_offered       0\n",
       "Weight_in_gms          0\n",
       "Reached.on.Time_Y.N    0\n",
       "dtype: int64"
      ]
     },
     "execution_count": 3,
     "metadata": {},
     "output_type": "execute_result"
    }
   ],
   "source": [
    "#chequeamos por valores nulos en cada columna\n",
    "\n",
    "df.isnull().sum()"
   ]
  },
  {
   "cell_type": "code",
   "execution_count": 4,
   "metadata": {},
   "outputs": [
    {
     "data": {
      "text/html": [
       "<div>\n",
       "<style scoped>\n",
       "    .dataframe tbody tr th:only-of-type {\n",
       "        vertical-align: middle;\n",
       "    }\n",
       "\n",
       "    .dataframe tbody tr th {\n",
       "        vertical-align: top;\n",
       "    }\n",
       "\n",
       "    .dataframe thead th {\n",
       "        text-align: right;\n",
       "    }\n",
       "</style>\n",
       "<table border=\"1\" class=\"dataframe\">\n",
       "  <thead>\n",
       "    <tr style=\"text-align: right;\">\n",
       "      <th></th>\n",
       "      <th>ID</th>\n",
       "      <th>Warehouse_block</th>\n",
       "      <th>Mode_of_Shipment</th>\n",
       "      <th>Customer_care_calls</th>\n",
       "      <th>Customer_rating</th>\n",
       "      <th>Cost_of_the_Product</th>\n",
       "      <th>Prior_purchases</th>\n",
       "      <th>Product_importance</th>\n",
       "      <th>Gender</th>\n",
       "      <th>Discount_offered</th>\n",
       "      <th>Weight_in_gms</th>\n",
       "      <th>Reached.on.Time_Y.N</th>\n",
       "    </tr>\n",
       "  </thead>\n",
       "  <tbody>\n",
       "  </tbody>\n",
       "</table>\n",
       "</div>"
      ],
      "text/plain": [
       "Empty DataFrame\n",
       "Columns: [ID, Warehouse_block, Mode_of_Shipment, Customer_care_calls, Customer_rating, Cost_of_the_Product, Prior_purchases, Product_importance, Gender, Discount_offered, Weight_in_gms, Reached.on.Time_Y.N]\n",
       "Index: []"
      ]
     },
     "execution_count": 4,
     "metadata": {},
     "output_type": "execute_result"
    }
   ],
   "source": [
    "#buscamos registros duplicados\n",
    "\n",
    "df[df.duplicated()]"
   ]
  },
  {
   "cell_type": "markdown",
   "metadata": {},
   "source": [
    "### Veamos cuantos envios llegaron a tiempo y cuantos no:<br>"
   ]
  },
  {
   "cell_type": "code",
   "execution_count": 5,
   "metadata": {},
   "outputs": [
    {
     "data": {
      "text/plain": [
       "1    5719\n",
       "0    3280\n",
       "Name: Reached.on.Time_Y.N, dtype: int64"
      ]
     },
     "execution_count": 5,
     "metadata": {},
     "output_type": "execute_result"
    }
   ],
   "source": [
    "df[\"Reached.on.Time_Y.N\"].value_counts()"
   ]
  },
  {
   "cell_type": "markdown",
   "metadata": {},
   "source": [
    "Es decir:\n",
    "- A timepo: 5719 envios.\n",
    "- Tardios: 3280 envios.\n",
    "\n",
    "De un total de 8999 envios, el 36.44% de los envios no llegaron a tiempo."
   ]
  },
  {
   "cell_type": "code",
   "execution_count": 5,
   "metadata": {},
   "outputs": [],
   "source": [
    "ontime=df[\"Reached.on.Time_Y.N\"]==1 #creo un filtro para los valores a tiempo\n",
    "offtime=df[\"Reached.on.Time_Y.N\"]==0 #creo un flitro para los valores que no llegaron a tiempo"
   ]
  },
  {
   "cell_type": "markdown",
   "metadata": {},
   "source": [
    "## Exploramos el dataframe  (EDA)\n",
    "Analizamos columna por columna, buscamos outliers, valores atipicos y, de ser necesario, escalamos y codificamos las variables categóricas\n",
    "\n",
    "### Columna \"ID\"\n",
    "-Esta columna nos indica el ID de cada una de las transacciones y por lo tanto puede ser eliminada ya que no nos interesa para el modelo"
   ]
  },
  {
   "cell_type": "code",
   "execution_count": 2,
   "metadata": {},
   "outputs": [
    {
     "data": {
      "text/html": [
       "<div>\n",
       "<style scoped>\n",
       "    .dataframe tbody tr th:only-of-type {\n",
       "        vertical-align: middle;\n",
       "    }\n",
       "\n",
       "    .dataframe tbody tr th {\n",
       "        vertical-align: top;\n",
       "    }\n",
       "\n",
       "    .dataframe thead th {\n",
       "        text-align: right;\n",
       "    }\n",
       "</style>\n",
       "<table border=\"1\" class=\"dataframe\">\n",
       "  <thead>\n",
       "    <tr style=\"text-align: right;\">\n",
       "      <th></th>\n",
       "      <th>Warehouse_block</th>\n",
       "      <th>Mode_of_Shipment</th>\n",
       "      <th>Customer_care_calls</th>\n",
       "      <th>Customer_rating</th>\n",
       "      <th>Cost_of_the_Product</th>\n",
       "      <th>Prior_purchases</th>\n",
       "      <th>Product_importance</th>\n",
       "      <th>Gender</th>\n",
       "      <th>Discount_offered</th>\n",
       "      <th>Weight_in_gms</th>\n",
       "      <th>Reached.on.Time_Y.N</th>\n",
       "    </tr>\n",
       "  </thead>\n",
       "  <tbody>\n",
       "    <tr>\n",
       "      <th>0</th>\n",
       "      <td>D</td>\n",
       "      <td>Flight</td>\n",
       "      <td>4</td>\n",
       "      <td>2</td>\n",
       "      <td>177</td>\n",
       "      <td>3</td>\n",
       "      <td>low</td>\n",
       "      <td>F</td>\n",
       "      <td>44</td>\n",
       "      <td>1233</td>\n",
       "      <td>1</td>\n",
       "    </tr>\n",
       "    <tr>\n",
       "      <th>1</th>\n",
       "      <td>F</td>\n",
       "      <td>Flight</td>\n",
       "      <td>4</td>\n",
       "      <td>5</td>\n",
       "      <td>216</td>\n",
       "      <td>2</td>\n",
       "      <td>low</td>\n",
       "      <td>M</td>\n",
       "      <td>59</td>\n",
       "      <td>3088</td>\n",
       "      <td>1</td>\n",
       "    </tr>\n",
       "    <tr>\n",
       "      <th>2</th>\n",
       "      <td>A</td>\n",
       "      <td>Flight</td>\n",
       "      <td>2</td>\n",
       "      <td>2</td>\n",
       "      <td>183</td>\n",
       "      <td>4</td>\n",
       "      <td>low</td>\n",
       "      <td>M</td>\n",
       "      <td>48</td>\n",
       "      <td>3374</td>\n",
       "      <td>1</td>\n",
       "    </tr>\n",
       "    <tr>\n",
       "      <th>3</th>\n",
       "      <td>B</td>\n",
       "      <td>Flight</td>\n",
       "      <td>3</td>\n",
       "      <td>3</td>\n",
       "      <td>176</td>\n",
       "      <td>4</td>\n",
       "      <td>medium</td>\n",
       "      <td>M</td>\n",
       "      <td>10</td>\n",
       "      <td>1177</td>\n",
       "      <td>1</td>\n",
       "    </tr>\n",
       "    <tr>\n",
       "      <th>4</th>\n",
       "      <td>C</td>\n",
       "      <td>Flight</td>\n",
       "      <td>2</td>\n",
       "      <td>2</td>\n",
       "      <td>184</td>\n",
       "      <td>3</td>\n",
       "      <td>medium</td>\n",
       "      <td>F</td>\n",
       "      <td>46</td>\n",
       "      <td>2484</td>\n",
       "      <td>1</td>\n",
       "    </tr>\n",
       "  </tbody>\n",
       "</table>\n",
       "</div>"
      ],
      "text/plain": [
       "  Warehouse_block Mode_of_Shipment  Customer_care_calls  Customer_rating  \\\n",
       "0               D           Flight                    4                2   \n",
       "1               F           Flight                    4                5   \n",
       "2               A           Flight                    2                2   \n",
       "3               B           Flight                    3                3   \n",
       "4               C           Flight                    2                2   \n",
       "\n",
       "   Cost_of_the_Product  Prior_purchases Product_importance Gender  \\\n",
       "0                  177                3                low      F   \n",
       "1                  216                2                low      M   \n",
       "2                  183                4                low      M   \n",
       "3                  176                4             medium      M   \n",
       "4                  184                3             medium      F   \n",
       "\n",
       "   Discount_offered  Weight_in_gms  Reached.on.Time_Y.N  \n",
       "0                44           1233                    1  \n",
       "1                59           3088                    1  \n",
       "2                48           3374                    1  \n",
       "3                10           1177                    1  \n",
       "4                46           2484                    1  "
      ]
     },
     "execution_count": 2,
     "metadata": {},
     "output_type": "execute_result"
    }
   ],
   "source": [
    "df.drop(\"ID\", axis=1, inplace=True)\n",
    "df.head()"
   ]
  },
  {
   "cell_type": "markdown",
   "metadata": {},
   "source": [
    "### Columna \"Warehouse_block\" (Bloque del Depósito)\n",
    "\n",
    "-Como se puede observar esta columna indica desde que bloque del depósito salió la mercadería. Cada bloque se indica con una letra, \"A\", \"B\", \"C\", \"D\", \"F\". "
   ]
  },
  {
   "cell_type": "code",
   "execution_count": 8,
   "metadata": {},
   "outputs": [
    {
     "data": {
      "text/plain": [
       "array(['D', 'F', 'A', 'B', 'C'], dtype=object)"
      ]
     },
     "execution_count": 8,
     "metadata": {},
     "output_type": "execute_result"
    }
   ],
   "source": [
    "#vemos los valores que puede tomar la variable\n",
    "df[\"Warehouse_block\"].unique()"
   ]
  },
  {
   "cell_type": "code",
   "execution_count": 9,
   "metadata": {},
   "outputs": [
    {
     "data": {
      "text/plain": [
       "F    2999\n",
       "D    1500\n",
       "A    1500\n",
       "B    1500\n",
       "C    1500\n",
       "Name: Warehouse_block, dtype: int64"
      ]
     },
     "execution_count": 9,
     "metadata": {},
     "output_type": "execute_result"
    }
   ],
   "source": [
    "#contamos cuantas veces aparece cada bloque\n",
    "\n",
    "df[\"Warehouse_block\"].value_counts()"
   ]
  },
  {
   "cell_type": "code",
   "execution_count": 10,
   "metadata": {},
   "outputs": [
    {
     "data": {
      "text/plain": [
       "F    1904\n",
       "B     964\n",
       "D     959\n",
       "C     953\n",
       "A     939\n",
       "Name: Warehouse_block, dtype: int64"
      ]
     },
     "execution_count": 10,
     "metadata": {},
     "output_type": "execute_result"
    }
   ],
   "source": [
    "#Contamos los valores que llegaron a tiempo para cada bloque\n",
    "\n",
    "df[\"Warehouse_block\"][ontime].value_counts()"
   ]
  },
  {
   "cell_type": "code",
   "execution_count": 11,
   "metadata": {},
   "outputs": [
    {
     "data": {
      "text/plain": [
       "F    1095\n",
       "A     561\n",
       "C     547\n",
       "D     541\n",
       "B     536\n",
       "Name: Warehouse_block, dtype: int64"
      ]
     },
     "execution_count": 11,
     "metadata": {},
     "output_type": "execute_result"
    }
   ],
   "source": [
    "#Contamos los valores que no llegaron a tiempo para cada bloque\n",
    "\n",
    "df[\"Warehouse_block\"][offtime].value_counts() "
   ]
  },
  {
   "cell_type": "markdown",
   "metadata": {},
   "source": [
    "### Graficamos su distribución en barras separadas, por cantidad de envios que no llegaron a tiempo y que si llegaron a tiempo:<br>\n"
   ]
  },
  {
   "cell_type": "code",
   "execution_count": 4,
   "metadata": {},
   "outputs": [],
   "source": [
    "import seaborn as sns\n",
    "import matplotlib.pyplot as plt\n",
    "import numpy as np"
   ]
  },
  {
   "cell_type": "code",
   "execution_count": 13,
   "metadata": {},
   "outputs": [
    {
     "data": {
      "image/png": "[encoded data removed]",
      "text/plain": [
       "<Figure size 432x288 with 1 Axes>"
      ]
     },
     "metadata": {
      "needs_background": "light"
     },
     "output_type": "display_data"
    }
   ],
   "source": [
    "sns.countplot(data=df, x=\"Warehouse_block\", hue=\"Reached.on.Time_Y.N\")\n",
    "plt.show()"
   ]
  },
  {
   "cell_type": "markdown",
   "metadata": {},
   "source": [
    "### Graficamos su distribución en diagrama de torta, vemos que porcentaje de envios sale de cada bloque:<br>"
   ]
  },
  {
   "cell_type": "code",
   "execution_count": 148,
   "metadata": {},
   "outputs": [
    {
     "data": {
      "image/png": "[encoded data removed]",
      "text/plain": [
       "<Figure size 432x432 with 1 Axes>"
      ]
     },
     "metadata": {},
     "output_type": "display_data"
    }
   ],
   "source": [
    "depositos=df[\"Warehouse_block\"].value_counts().reset_index() \n",
    "depositos.columns=[\"Bloque\",\"Cant\"]\n",
    "depositos=depositos.sort_values(\"Bloque\").reset_index().drop([\"index\"], axis=1)\n",
    "fig = plt.figure(figsize = (6, 6), facecolor=\"white\")\n",
    "colors= sns.color_palette('tab10')\n",
    "plt.pie(depositos[\"Cant\"], labels=depositos[\"Bloque\"], colors = colors, autopct='%.0f%%')\n",
    "plt.show()"
   ]
  },
  {
   "cell_type": "markdown",
   "metadata": {},
   "source": [
    "### Ahora vemos que porcentaje de envios procedentes de cada bloque no llego a tiempo"
   ]
  },
  {
   "cell_type": "code",
   "execution_count": 167,
   "metadata": {},
   "outputs": [
    {
     "data": {
      "image/png": "[encoded data removed]",
      "text/plain": [
       "<Figure size 432x288 with 1 Axes>"
      ]
     },
     "metadata": {
      "needs_background": "light"
     },
     "output_type": "display_data"
    },
    {
     "name": "stdout",
     "output_type": "stream",
     "text": [
      "Porcentaje envios tardios para 'A': 37.4 %\n",
      "Porcentaje envios tardios para 'B': 35.7 %\n",
      "Porcentaje envios tardios para 'C': 36.5 %\n",
      "Porcentaje envios tardios para 'D': 36.1 %\n",
      "Porcentaje envios tardios para 'F': 36.5 %\n"
     ]
    }
   ],
   "source": [
    "depositos_no=df[\"Warehouse_block\"][offtime].value_counts().reset_index() #contar solo envios que no llegan desde la columna \"Warehosue_block\"\n",
    "depositos_no.columns=[\"Bloque\",\"Cant\"] #nombro las columnas\n",
    "depositos_no=depositos_no.sort_values(\"Bloque\").reset_index().drop([\"index\"], axis=1)\n",
    "ax=sns.barplot(x=depositos[\"Bloque\"], y=(depositos_no[\"Cant\"]/depositos[\"Cant\"]*100)).set_ylabel(\"Porcentaje de envios tardios\")\n",
    "plt.show()\n",
    "print (\"Porcentaje envios tardios para 'A':\", round((depositos_no[\"Cant\"][0]/depositos[\"Cant\"][0]*100),1), \"%\")\n",
    "print (\"Porcentaje envios tardios para 'B':\", round((depositos_no[\"Cant\"][1]/depositos[\"Cant\"][1]*100),1), \"%\")\n",
    "print (\"Porcentaje envios tardios para 'C':\", round((depositos_no[\"Cant\"][2]/depositos[\"Cant\"][2]*100),1), \"%\")\n",
    "print (\"Porcentaje envios tardios para 'D':\", round((depositos_no[\"Cant\"][3]/depositos[\"Cant\"][3]*100),1), \"%\")\n",
    "print (\"Porcentaje envios tardios para 'F':\", round((depositos_no[\"Cant\"][4]/depositos[\"Cant\"][4]*100),1), \"%\")\n"
   ]
  },
  {
   "cell_type": "markdown",
   "metadata": {},
   "source": [
    "-Observamos que, el Bloque \"F\" realizo más envios que el resto.<br>\n",
    "-Observamos que la distribucion, entre los envios que llegaron a tiempo y los que no para cada bloque, son:\n",
    "\n",
    "- Bloque A: 1500 envios, 939 envios a tiempo, 561 envios tardios, 37.4% de los envios del bloque A no llegaron a tiempo.\n",
    "- Bloque B: 1500 envios, 964 envios a tiempo, 536 envios tardios, 35.7% de los envios del bloque B no llegaron a tiempo.\n",
    "- Bloque C: 1500 envios, 953 envios a tiempo, 547 envios tardios, 36.5% de los envios del bloque C no llegaron a tiempo.\n",
    "- Bloque D: 1500 envios, 959 envios a tiempo, 541 envios tardios, 36.1% de los envios del bloque D no llegaron a tiempo.\n",
    "- Bloque F: 2999 envios, 1904 envios a tiempo, 1095 envios tardios, 36.5 % de los envios del bloque F no llegaron a tiempo.\n",
    "\n",
    "Se puede concluir que, segun el bloque de deposito donde haya salido el envio, el porcentaje de envios tardios varia muy poco.<br>\n",
    "El bloque \"A\" es el que más porcentaje envios tardios tiene y el bloque B el que menos.<br>\n"
   ]
  },
  {
   "cell_type": "markdown",
   "metadata": {},
   "source": [
    "### Columna \"Mode_of_Shipment\" (Modo de Envio)\n",
    "\n",
    "-Como se puede observar esta columna indica el modo de envío de la mercadería. Hay tres tipos, \"Flight\" (Aereo), \"Ship\" (Barco) y \"Road\" (Por tierra)."
   ]
  },
  {
   "cell_type": "code",
   "execution_count": 15,
   "metadata": {},
   "outputs": [
    {
     "data": {
      "text/plain": [
       "array(['Flight', 'Ship', 'Road'], dtype=object)"
      ]
     },
     "execution_count": 15,
     "metadata": {},
     "output_type": "execute_result"
    }
   ],
   "source": [
    "df[\"Mode_of_Shipment\"].unique() #vemos los valores que puede tomar la variable"
   ]
  },
  {
   "cell_type": "code",
   "execution_count": 58,
   "metadata": {},
   "outputs": [
    {
     "data": {
      "text/plain": [
       "Ship      6122\n",
       "Flight    1447\n",
       "Road      1430\n",
       "Name: Mode_of_Shipment, dtype: int64"
      ]
     },
     "execution_count": 58,
     "metadata": {},
     "output_type": "execute_result"
    }
   ],
   "source": [
    "#contamos cuantas veces aparece cada modo de envio\n",
    "\n",
    "df[\"Mode_of_Shipment\"].value_counts()"
   ]
  },
  {
   "cell_type": "code",
   "execution_count": 17,
   "metadata": {},
   "outputs": [
    {
     "data": {
      "text/plain": [
       "Ship      3902\n",
       "Flight     934\n",
       "Road       883\n",
       "Name: Mode_of_Shipment, dtype: int64"
      ]
     },
     "execution_count": 17,
     "metadata": {},
     "output_type": "execute_result"
    }
   ],
   "source": [
    "df[\"Mode_of_Shipment\"][ontime].value_counts() #Contamos los valores que llegaron a tiempo para cada modo de envio"
   ]
  },
  {
   "cell_type": "code",
   "execution_count": 18,
   "metadata": {},
   "outputs": [
    {
     "data": {
      "text/plain": [
       "Ship      2220\n",
       "Road       547\n",
       "Flight     513\n",
       "Name: Mode_of_Shipment, dtype: int64"
      ]
     },
     "execution_count": 18,
     "metadata": {},
     "output_type": "execute_result"
    }
   ],
   "source": [
    "df[\"Mode_of_Shipment\"][offtime].value_counts() #Contamos los valores que no llegaron a tiempo para cada modo de envio"
   ]
  },
  {
   "cell_type": "markdown",
   "metadata": {},
   "source": [
    "### Graficamos su distribución en barras separadas, por cantidad de envios que no llegaron a tiempo y que si llegaron a tiempo:<br>"
   ]
  },
  {
   "cell_type": "code",
   "execution_count": 19,
   "metadata": {},
   "outputs": [
    {
     "data": {
      "image/png": "[encoded data removed]",
      "text/plain": [
       "<Figure size 432x288 with 1 Axes>"
      ]
     },
     "metadata": {
      "needs_background": "light"
     },
     "output_type": "display_data"
    }
   ],
   "source": [
    "sns.countplot(data=df, x=\"Mode_of_Shipment\", hue=\"Reached.on.Time_Y.N\")\n",
    "plt.show()"
   ]
  },
  {
   "cell_type": "markdown",
   "metadata": {},
   "source": [
    "### Graficamos su distribución en diagrama de torta, vemos que porcentaje de envios se hace utilizadando cada modo:<br>"
   ]
  },
  {
   "cell_type": "code",
   "execution_count": 143,
   "metadata": {},
   "outputs": [
    {
     "data": {
      "image/png": "[encoded data removed]",
      "text/plain": [
       "<Figure size 432x432 with 1 Axes>"
      ]
     },
     "metadata": {},
     "output_type": "display_data"
    }
   ],
   "source": [
    "modo_envio=df[\"Mode_of_Shipment\"].value_counts().reset_index() \n",
    "modo_envio.columns=[\"ModoEnv\",\"Cant\"]\n",
    "modo_envio=modo_envio.sort_values(\"ModoEnv\").reset_index().drop([\"index\"], axis=1)\n",
    "fig = plt.figure(figsize = (6, 6), facecolor=\"white\")\n",
    "colors= sns.color_palette('tab10')\n",
    "plt.pie(modo_envio[\"Cant\"], labels=modo_envio[\"ModoEnv\"], colors = colors, autopct='%.0f%%')\n",
    "plt.show()"
   ]
  },
  {
   "cell_type": "markdown",
   "metadata": {},
   "source": [
    "### Ahora vemos que porcentaje de envios segun el modo de envio no llego a tiempo"
   ]
  },
  {
   "cell_type": "code",
   "execution_count": 166,
   "metadata": {},
   "outputs": [
    {
     "data": {
      "image/png": "[encoded data removed]",
      "text/plain": [
       "<Figure size 432x288 with 1 Axes>"
      ]
     },
     "metadata": {
      "needs_background": "light"
     },
     "output_type": "display_data"
    },
    {
     "name": "stdout",
     "output_type": "stream",
     "text": [
      "Porcentaje envios tardios para 'Flight': 35.5 %\n",
      "Porcentaje envios tardios para 'Road': 38.3 %\n",
      "Porcentaje envios tardios para 'Ship': 36.3 %\n"
     ]
    }
   ],
   "source": [
    "modo_envio_no=df[\"Mode_of_Shipment\"][offtime].value_counts().reset_index()\n",
    "modo_envio_no.columns=[\"ModoEnv\",\"Cant\"]  #contar solo envios que no llegan desde la columna \"Mode_of_Shipment\"\n",
    "modo_envio_no=modo_envio_no.sort_values(\"ModoEnv\").reset_index().drop([\"index\"], axis=1)\n",
    "ax=sns.barplot(x=modo_envio[\"ModoEnv\"], y=(modo_envio_no[\"Cant\"]/modo_envio[\"Cant\"]*100)).set_ylabel(\"Porcentaje de envios tardios\")\n",
    "plt.show()\n",
    "print (\"Porcentaje envios tardios para 'Flight':\", round((modo_envio_no[\"Cant\"][0]/modo_envio[\"Cant\"][0]*100),1), \"%\")\n",
    "print (\"Porcentaje envios tardios para 'Road':\", round((modo_envio_no[\"Cant\"][1]/modo_envio[\"Cant\"][1]*100),1), \"%\")\n",
    "print (\"Porcentaje envios tardios para 'Ship':\", round((modo_envio_no[\"Cant\"][2]/modo_envio[\"Cant\"][2]*100),1), \"%\")\n"
   ]
  },
  {
   "cell_type": "markdown",
   "metadata": {},
   "source": [
    "-Observamos que, el Modo de envio \"Ship\" (Barco) realizo mucho más envios que el resto, lo que podria desbalancear el modelo.<br>\n",
    "-Observamos que la distribucion, entre los envios que llegaron a tiempo y los que no para cada Modo de envio, son:\n",
    "\n",
    "- Modo envio \"Ship\": 6122 envios, 3902 envios a tiempo, 2220 envios tardios, 36.3 % de los envios maritimos no llegaron a tiempo.\n",
    "- Modo envio \"Flight\": 1447 envios, 934 envios a tiempo, 513 envios tardios, 35.5 % de los envios aereos no llegaron a tiempo.\n",
    "- Modo envio \"Road\": 1430 envios, 883 envios a tiempo, 547 envios tardios, 38.3 % de los envios terrestres no llegaron a tiempo.\n",
    "\n",
    "Se aprecia que, aunque las diferecnias son minimas, los envios por tierra son menos eficientes y los envios por aire más eficientes."
   ]
  },
  {
   "cell_type": "markdown",
   "metadata": {},
   "source": [
    "### Columna \"Customer_care_calls\" (Llamadas al servicio a cliente)\n",
    "\n",
    "-Como se puede observar esta columna indica cuantas llamadas se recibienron al centro de atencion al cliente por cada uno de los envios. Encontramos que se realizan entre 2 y 7 llamadas."
   ]
  },
  {
   "cell_type": "code",
   "execution_count": 156,
   "metadata": {},
   "outputs": [
    {
     "data": {
      "text/plain": [
       "array([4, 2, 3, 5, 6, 7], dtype=int64)"
      ]
     },
     "execution_count": 156,
     "metadata": {},
     "output_type": "execute_result"
    }
   ],
   "source": [
    "df[\"Customer_care_calls\"].unique() #vemos los valores que puede tomar la variable"
   ]
  },
  {
   "cell_type": "code",
   "execution_count": 158,
   "metadata": {},
   "outputs": [
    {
     "data": {
      "text/plain": [
       "4    2892\n",
       "3    2743\n",
       "5    1820\n",
       "6     803\n",
       "2     554\n",
       "7     187\n",
       "Name: Customer_care_calls, dtype: int64"
      ]
     },
     "execution_count": 158,
     "metadata": {},
     "output_type": "execute_result"
    }
   ],
   "source": [
    "#contamos cuantas llamadas por envio hay\n",
    "\n",
    "df[\"Customer_care_calls\"].value_counts()"
   ]
  },
  {
   "cell_type": "code",
   "execution_count": 23,
   "metadata": {},
   "outputs": [
    {
     "data": {
      "text/plain": [
       "4    1840\n",
       "3    1817\n",
       "5    1157\n",
       "6     420\n",
       "2     381\n",
       "7     104\n",
       "Name: Customer_care_calls, dtype: int64"
      ]
     },
     "execution_count": 23,
     "metadata": {},
     "output_type": "execute_result"
    }
   ],
   "source": [
    "#Contamos los valores que llegaron a tiempo segun la cantidad de llamadas\n",
    "\n",
    "df[\"Customer_care_calls\"][ontime].value_counts()"
   ]
  },
  {
   "cell_type": "code",
   "execution_count": 24,
   "metadata": {},
   "outputs": [
    {
     "data": {
      "text/plain": [
       "4    1052\n",
       "3     926\n",
       "5     663\n",
       "6     383\n",
       "2     173\n",
       "7      83\n",
       "Name: Customer_care_calls, dtype: int64"
      ]
     },
     "execution_count": 24,
     "metadata": {},
     "output_type": "execute_result"
    }
   ],
   "source": [
    "#Contamos los valores que no llegaron a tiempo segun la cantidad de llamadas\n",
    "\n",
    "df[\"Customer_care_calls\"][offtime].value_counts()"
   ]
  },
  {
   "cell_type": "markdown",
   "metadata": {},
   "source": [
    "### Graficamos su distribución en barras separadas, por cantidad de envios que no llegaron a tiempo y que si llegaron a tiempo:<br>"
   ]
  },
  {
   "cell_type": "code",
   "execution_count": 25,
   "metadata": {},
   "outputs": [
    {
     "data": {
      "image/png": "[encoded data removed]",
      "text/plain": [
       "<Figure size 432x288 with 1 Axes>"
      ]
     },
     "metadata": {
      "needs_background": "light"
     },
     "output_type": "display_data"
    }
   ],
   "source": [
    "sns.countplot(data=df, x=\"Customer_care_calls\", hue=\"Reached.on.Time_Y.N\")\n",
    "plt.show()"
   ]
  },
  {
   "cell_type": "markdown",
   "metadata": {},
   "source": [
    "### Graficamos su distribución en diagrama de torta, vemos que porcentaje de cantidad llamadas por envio se reciben:<br>"
   ]
  },
  {
   "cell_type": "code",
   "execution_count": 159,
   "metadata": {},
   "outputs": [
    {
     "data": {
      "image/png": "[encoded data removed]",
      "text/plain": [
       "<Figure size 432x432 with 1 Axes>"
      ]
     },
     "metadata": {},
     "output_type": "display_data"
    }
   ],
   "source": [
    "puntaje=df[\"Customer_care_calls\"].value_counts().reset_index() \n",
    "puntaje.columns=[\"Llamadas\",\"Cant\"]\n",
    "puntaje=puntaje.sort_values(\"Llamadas\").reset_index().drop([\"index\"], axis=1)\n",
    "fig = plt.figure(figsize = (6, 6), facecolor=\"white\")\n",
    "colors= sns.color_palette('tab10')\n",
    "plt.pie(puntaje[\"Cant\"], labels=puntaje[\"Llamadas\"], colors = colors, autopct='%.0f%%')\n",
    "plt.show()"
   ]
  },
  {
   "cell_type": "markdown",
   "metadata": {},
   "source": [
    "### Ahora vemos que porcentaje de envios segun la cantidad de llamadas no llego a tiempo"
   ]
  },
  {
   "cell_type": "code",
   "execution_count": 165,
   "metadata": {},
   "outputs": [
    {
     "data": {
      "image/png": "[encoded data removed]",
      "text/plain": [
       "<Figure size 432x288 with 1 Axes>"
      ]
     },
     "metadata": {
      "needs_background": "light"
     },
     "output_type": "display_data"
    },
    {
     "name": "stdout",
     "output_type": "stream",
     "text": [
      "Porcentaje envios tardios para '2 llamadas': 31.2 %\n",
      "Porcentaje envios tardios para '3 llamadas': 33.8 %\n",
      "Porcentaje envios tardios para '4 llamadas': 36.4 %\n",
      "Porcentaje envios tardios para '5 llamadas': 36.4 %\n",
      "Porcentaje envios tardios para '6 llamadas': 47.7 %\n",
      "Porcentaje envios tardios para '7 llamadas': 44.4 %\n"
     ]
    }
   ],
   "source": [
    "puntaje_no=df[\"Customer_care_calls\"][offtime].value_counts().reset_index() #contar solo envios que no llegan desde la columna \"Customer_care_calls\"\n",
    "puntaje_no.columns=[\"Llamadas\",\"Cant\"] #nombro las columnas\n",
    "puntaje_no=puntaje_no.sort_values(\"Llamadas\").reset_index().drop([\"index\"], axis=1)\n",
    "ax=sns.barplot(x=puntaje[\"Llamadas\"], y=(puntaje_no[\"Cant\"]/puntaje[\"Cant\"]*100)).set_ylabel(\"Porcentaje de envios tardios\")\n",
    "plt.show()\n",
    "print (\"Porcentaje envios tardios para '2 llamadas':\", round((puntaje_no[\"Cant\"][0]/puntaje[\"Cant\"][0]*100),1), \"%\")\n",
    "print (\"Porcentaje envios tardios para '3 llamadas':\", round((puntaje_no[\"Cant\"][1]/puntaje[\"Cant\"][1]*100),1), \"%\")\n",
    "print (\"Porcentaje envios tardios para '4 llamadas':\", round((puntaje_no[\"Cant\"][2]/puntaje[\"Cant\"][2]*100),1), \"%\")\n",
    "print (\"Porcentaje envios tardios para '5 llamadas':\", round((puntaje_no[\"Cant\"][3]/puntaje[\"Cant\"][3]*100),1), \"%\")\n",
    "print (\"Porcentaje envios tardios para '6 llamadas':\", round((puntaje_no[\"Cant\"][4]/puntaje[\"Cant\"][4]*100),1), \"%\")\n",
    "print (\"Porcentaje envios tardios para '7 llamadas':\", round((puntaje_no[\"Cant\"][5]/puntaje[\"Cant\"][5]*100),1), \"%\")"
   ]
  },
  {
   "cell_type": "markdown",
   "metadata": {},
   "source": [
    "-Observamos que, se reciben al menos 2 llamadas por envio.<br>\n",
    "-Observamos que la distribución, entre los envios que llegaron a tiempo y los que no según la cantidad de llamadas, son:\n",
    "\n",
    "- 2 llamadas: 554 envios, 381 envios a tiempo, 173 envios tardios, 31.2 % de los envios con 2 llamadas no llegaron a tiempo.\n",
    "- 3 llamadas: 2743 envios, 1817 envios a tiempo, 926 envios tardios, 33.8 % de los envios con 3 llamadas no llegaron a tiempo.\n",
    "- 4 llamadas: 2892 envios, 1840 envios a tiempo, 1052 envios tardios, 36.4 % de los envios con 4 llamadas no llegaron a tiempo.\n",
    "- 5 llamadas: 1820 envios, 1157 envios a tiempo, 663 envios tardios, 36.4 % de los envios con 5 llamadas no llegaron a tiempo.\n",
    "- 6 llamadas: 803 envios, 420 envios a tiempo, 383 envios tardios, 47.7 % de los envios con 6 llamadas no llegaron a tiempo.\n",
    "- 7 llamadas: 187 envios, 104 envios a tiempo, 83 envios tardios, 44.4 % de los envios con 7 llamadas no llegaron a tiempo.\n",
    "\n",
    "Se puede advertir que mientras mas llamadas se hacen, sube el porcentaje de envios que no llegan a tiempo.<br>\n",
    "Por otro lado, estamos buscando la forma de predecir si un envio llega o no a tiempo, esta metrica en un caso real debería actualizarse permanentemente en caso de ser utilizada."
   ]
  },
  {
   "cell_type": "markdown",
   "metadata": {},
   "source": [
    "### Columna \"Customer_rating\" (Puntuacion del cliente)\n",
    "\n",
    "-Como se puede observar esta columna indica el puntaje que el cliente indico para cada transaccion. Encontramos que el puntaje varía entre 1 y 5 puntos."
   ]
  },
  {
   "cell_type": "code",
   "execution_count": 168,
   "metadata": {},
   "outputs": [
    {
     "data": {
      "text/plain": [
       "array([2, 5, 3, 1, 4], dtype=int64)"
      ]
     },
     "execution_count": 168,
     "metadata": {},
     "output_type": "execute_result"
    }
   ],
   "source": [
    "#vemos los valores que puede tomar la variable\n",
    "\n",
    "df[\"Customer_rating\"].unique()"
   ]
  },
  {
   "cell_type": "code",
   "execution_count": 169,
   "metadata": {},
   "outputs": [
    {
     "data": {
      "text/plain": [
       "3    1836\n",
       "1    1823\n",
       "4    1802\n",
       "5    1779\n",
       "2    1759\n",
       "Name: Customer_rating, dtype: int64"
      ]
     },
     "execution_count": 169,
     "metadata": {},
     "output_type": "execute_result"
    }
   ],
   "source": [
    "#contamos los puntajes recibidos por envio\n",
    "\n",
    "df[\"Customer_rating\"].value_counts()"
   ]
  },
  {
   "cell_type": "code",
   "execution_count": 170,
   "metadata": {},
   "outputs": [
    {
     "data": {
      "text/plain": [
       "3    1180\n",
       "5    1144\n",
       "4    1144\n",
       "1    1142\n",
       "2    1109\n",
       "Name: Customer_rating, dtype: int64"
      ]
     },
     "execution_count": 170,
     "metadata": {},
     "output_type": "execute_result"
    }
   ],
   "source": [
    "#Contamos los valores que llegaron a tiempo segun el puntaje\n",
    "\n",
    "df[\"Customer_rating\"][ontime].value_counts()"
   ]
  },
  {
   "cell_type": "code",
   "execution_count": 171,
   "metadata": {},
   "outputs": [
    {
     "data": {
      "text/plain": [
       "1    681\n",
       "4    658\n",
       "3    656\n",
       "2    650\n",
       "5    635\n",
       "Name: Customer_rating, dtype: int64"
      ]
     },
     "execution_count": 171,
     "metadata": {},
     "output_type": "execute_result"
    }
   ],
   "source": [
    "#Contamos los valores que no llegaron a tiempo segun la cantidad de llamadas\n",
    "\n",
    "df[\"Customer_rating\"][offtime].value_counts()"
   ]
  },
  {
   "cell_type": "code",
   "execution_count": 172,
   "metadata": {},
   "outputs": [
    {
     "data": {
      "image/png": "[encoded data removed]",
      "text/plain": [
       "<Figure size 432x288 with 1 Axes>"
      ]
     },
     "metadata": {
      "needs_background": "light"
     },
     "output_type": "display_data"
    }
   ],
   "source": [
    "sns.countplot(data=df, x=\"Customer_rating\", hue=\"Reached.on.Time_Y.N\")\n",
    "plt.show()"
   ]
  },
  {
   "cell_type": "markdown",
   "metadata": {},
   "source": [
    "### Graficamos su distribución en diagrama de torta, vemos que porcentaje de cantidad llamadas por envio se reciben:<br>"
   ]
  },
  {
   "cell_type": "code",
   "execution_count": 173,
   "metadata": {},
   "outputs": [
    {
     "data": {
      "image/png": "[encoded data removed]",
      "text/plain": [
       "<Figure size 432x432 with 1 Axes>"
      ]
     },
     "metadata": {},
     "output_type": "display_data"
    }
   ],
   "source": [
    "prioridad=df[\"Customer_rating\"].value_counts().reset_index() \n",
    "prioridad.columns=[\"Puntaje\",\"Cant\"]\n",
    "prioridad=prioridad.sort_values(\"Puntaje\").reset_index().drop([\"index\"], axis=1)\n",
    "fig = plt.figure(figsize = (6, 6), facecolor=\"white\")\n",
    "colors= sns.color_palette('tab10')\n",
    "plt.pie(prioridad[\"Cant\"], labels=prioridad[\"Puntaje\"], colors = colors, autopct='%.0f%%')\n",
    "plt.show()"
   ]
  },
  {
   "cell_type": "markdown",
   "metadata": {},
   "source": [
    "### Ahora vemos que porcentaje de envios segun el puntaje del cliente no llego a tiempo:"
   ]
  },
  {
   "cell_type": "code",
   "execution_count": 178,
   "metadata": {},
   "outputs": [
    {
     "data": {
      "image/png": "[encoded data removed]",
      "text/plain": [
       "<Figure size 432x288 with 1 Axes>"
      ]
     },
     "metadata": {
      "needs_background": "light"
     },
     "output_type": "display_data"
    },
    {
     "name": "stdout",
     "output_type": "stream",
     "text": [
      "Porcentaje envios tardios para '1 puntos': 37.4 %\n",
      "Porcentaje envios tardios para '2 puntos': 37.0 %\n",
      "Porcentaje envios tardios para '3 puntos': 35.7 %\n",
      "Porcentaje envios tardios para '4 puntos': 36.5 %\n",
      "Porcentaje envios tardios para '5 puntos': 35.7 %\n"
     ]
    }
   ],
   "source": [
    "prioridad_no=df[\"Customer_rating\"][offtime].value_counts().reset_index() #contar solo envios que no llegan desde la columna \"Customer_rating\"\n",
    "prioridad_no.columns=[\"Puntaje\",\"Cant\"] #nombro las columnas\n",
    "prioridad_no=prioridad_no.sort_values(\"Puntaje\").reset_index().drop([\"index\"], axis=1)\n",
    "ax=sns.barplot(x=prioridad[\"Puntaje\"], y=(prioridad_no[\"Cant\"]/prioridad[\"Cant\"]*100)).set_ylabel(\"Porcentaje de envios tardios\")\n",
    "plt.show()\n",
    "print (\"Porcentaje envios tardios para '1 puntos':\", round((prioridad_no[\"Cant\"][0]/prioridad[\"Cant\"][0]*100),1), \"%\")\n",
    "print (\"Porcentaje envios tardios para '2 puntos':\", round((prioridad_no[\"Cant\"][1]/prioridad[\"Cant\"][1]*100),1), \"%\")\n",
    "print (\"Porcentaje envios tardios para '3 puntos':\", round((prioridad_no[\"Cant\"][2]/prioridad[\"Cant\"][2]*100),1), \"%\")\n",
    "print (\"Porcentaje envios tardios para '4 puntos':\", round((prioridad_no[\"Cant\"][3]/prioridad[\"Cant\"][3]*100),1), \"%\")\n",
    "print (\"Porcentaje envios tardios para '5 puntos':\", round((prioridad_no[\"Cant\"][4]/prioridad[\"Cant\"][4]*100),1), \"%\")"
   ]
  },
  {
   "cell_type": "markdown",
   "metadata": {},
   "source": [
    "-Observamos que la distribución, entre los envios que llegaron a tiempo y los que no según el puntaje del cliente, son:\n",
    "\n",
    "- Puntaje 1: 1823 envios, 1142 envios a tiempo, 681 envios tardios, 37.4 % de los envios con 1 punto no llegaron a tiempo.\n",
    "- Puntaje 2: 1759 envios, 1109 envios a tiempo, 650 envios tardios, 37.0 % de los envios con 2 punto no llegaron a tiempo.\n",
    "- Puntaje 3: 1836 envios, 1180 envios a tiempo, 656 envios tardios, 35.7 % de los envios con 3 punto no llegaron a tiempo.\n",
    "- Puntaje 4: 1802 envios, 1144 envios a tiempo, 658 envios tardios, 36.5 % de los envios con 4 punto no llegaron a tiempo.\n",
    "- Puntaje 5: 1779 envios, 1144 envios a tiempo, 635 envios tardios, 35.7 % de los envios con 5 punto no llegaron a tiempo.\n",
    "\n",
    "\n",
    "Se puede advertir que mientras menor sea el puntaje recibido, sube el porcentaje de envios que no llegan a tiempo, aunque la diferencia es muy poca.<br>"
   ]
  },
  {
   "cell_type": "markdown",
   "metadata": {},
   "source": [
    "### Columna \"Cost_of_the_Product\" (Costo del producto)\n",
    "\n",
    "-Como se puede observar esta columna nos indica el precio del producto que se enviaen cada transaccion.<br>\n",
    "Encontramos que el precio es una variable continua que varía entre 96 y 310."
   ]
  },
  {
   "cell_type": "code",
   "execution_count": 24,
   "metadata": {},
   "outputs": [
    {
     "data": {
      "text/plain": [
       "array([177, 216, 183, 176, 184, 162, 250, 233, 150, 164, 189, 232, 198,\n",
       "       275, 152, 227, 143, 239, 145, 161, 156, 211, 251, 225, 172, 234,\n",
       "       266, 257, 223, 149, 137, 181, 215, 269, 139, 174, 151, 210, 169,\n",
       "       160, 190, 141, 165, 170, 203, 246, 238, 193, 221, 179, 105, 261,\n",
       "       202, 109, 158, 231, 206, 187, 230, 113, 180, 132, 217, 197, 185,\n",
       "       278, 229, 186, 286, 175, 219, 213, 235, 271, 144, 218, 263, 168,\n",
       "       265, 205, 252, 222, 220, 147, 200, 224, 247, 280, 157, 207, 237,\n",
       "       264, 248, 191, 146, 135,  98,  97, 114, 112, 274, 166, 148, 270,\n",
       "       242, 192, 116, 255, 209, 134, 130, 133, 140, 136, 142, 154, 155,\n",
       "       127, 129, 159, 294, 226, 258, 241, 208, 182, 115, 212, 171, 249,\n",
       "       243, 163, 272, 138, 273, 279, 173, 194, 262, 201, 260, 188, 267,\n",
       "       131, 122, 103, 199, 236, 167, 259, 178, 123, 124,  96, 244, 254,\n",
       "       128, 204, 245, 228, 268, 108, 276, 214, 281, 253, 104, 240, 121,\n",
       "       153, 111, 117, 195, 110, 119, 196, 291, 118, 283, 100, 256, 285,\n",
       "       284, 101, 296, 277, 106, 282, 126, 102, 120,  99, 125, 107, 301,\n",
       "       290, 310, 308, 300, 303, 306, 292, 293, 295, 304, 298, 305, 287,\n",
       "       309, 302, 307, 289, 297, 299, 288], dtype=int64)"
      ]
     },
     "execution_count": 24,
     "metadata": {},
     "output_type": "execute_result"
    }
   ],
   "source": [
    "#vemos los valores que puede tomar la variable\n",
    "\n",
    "df[\"Cost_of_the_Product\"].unique()"
   ]
  },
  {
   "cell_type": "code",
   "execution_count": 16,
   "metadata": {},
   "outputs": [
    {
     "data": {
      "text/plain": [
       "(310, 96)"
      ]
     },
     "execution_count": 16,
     "metadata": {},
     "output_type": "execute_result"
    }
   ],
   "source": [
    "#Vemos los valores max y min que alcanza la variable\n",
    "df[\"Cost_of_the_Product\"].max(), df[\"Cost_of_the_Product\"].min()"
   ]
  },
  {
   "cell_type": "code",
   "execution_count": 6,
   "metadata": {},
   "outputs": [
    {
     "data": {
      "image/png": "[encoded data removed]",
      "text/plain": [
       "<Figure size 432x288 with 1 Axes>"
      ]
     },
     "metadata": {
      "needs_background": "light"
     },
     "output_type": "display_data"
    }
   ],
   "source": [
    "#Buscamos Outliers\n",
    "sns.boxplot(x = 'Cost_of_the_Product', data =df)\n",
    "plt.show()"
   ]
  },
  {
   "cell_type": "markdown",
   "metadata": {},
   "source": [
    "### Graficamos su distribución:<br>"
   ]
  },
  {
   "cell_type": "code",
   "execution_count": 25,
   "metadata": {},
   "outputs": [
    {
     "data": {
      "image/png": "[encoded data removed]",
      "text/plain": [
       "<Figure size 432x288 with 1 Axes>"
      ]
     },
     "metadata": {
      "needs_background": "light"
     },
     "output_type": "display_data"
    }
   ],
   "source": [
    "sns.histplot(data=df, x=\"Cost_of_the_Product\", bins=10)\n",
    "plt.show()"
   ]
  },
  {
   "cell_type": "markdown",
   "metadata": {},
   "source": [
    "### Graficamos su distribución teniendo en cuenta cuales llegaron a destino a tiempo y cuales no:<br>"
   ]
  },
  {
   "cell_type": "code",
   "execution_count": 17,
   "metadata": {},
   "outputs": [
    {
     "data": {
      "image/png": "[encoded data removed]",
      "text/plain": [
       "<Figure size 432x288 with 1 Axes>"
      ]
     },
     "metadata": {
      "needs_background": "light"
     },
     "output_type": "display_data"
    }
   ],
   "source": [
    "sns.histplot(data=df, x=\"Cost_of_the_Product\", hue=\"Reached.on.Time_Y.N\", bins=10)\n",
    "plt.show()"
   ]
  },
  {
   "cell_type": "markdown",
   "metadata": {},
   "source": [
    "Observamos que a medida que el precio aumenta, el porcentaje de envios tardios tambien lo hace.<br>\n",
    "Podemos apreciar que, a partir de precios mayores a 200, son mas los envios que no llegaron a tiempo que los que si."
   ]
  },
  {
   "cell_type": "markdown",
   "metadata": {},
   "source": [
    "### Columna \"Prior_purchases\" (Compra previa)\n",
    "\n",
    "-Como se puede observar esta columna nos indica si el cliente compro previamente.<br>\n",
    "Encontramos que las compras previas toma valores entre 2 y 10.\n"
   ]
  },
  {
   "cell_type": "code",
   "execution_count": 26,
   "metadata": {},
   "outputs": [
    {
     "data": {
      "text/plain": [
       "array([ 3,  2,  4,  6,  5,  7, 10,  8], dtype=int64)"
      ]
     },
     "execution_count": 26,
     "metadata": {},
     "output_type": "execute_result"
    }
   ],
   "source": [
    "#vemos los valores que puede tomar la variable\n",
    "\n",
    "df[\"Prior_purchases\"].unique()"
   ]
  },
  {
   "cell_type": "code",
   "execution_count": 28,
   "metadata": {},
   "outputs": [
    {
     "data": {
      "text/plain": [
       "3     3347\n",
       "2     2239\n",
       "4     1752\n",
       "5      863\n",
       "6      402\n",
       "10     152\n",
       "7      126\n",
       "8      118\n",
       "Name: Prior_purchases, dtype: int64"
      ]
     },
     "execution_count": 28,
     "metadata": {},
     "output_type": "execute_result"
    }
   ],
   "source": [
    "#contamos las compras previas para cada de cada envio\n",
    "\n",
    "df[\"Prior_purchases\"].value_counts()"
   ]
  },
  {
   "cell_type": "code",
   "execution_count": 29,
   "metadata": {},
   "outputs": [
    {
     "data": {
      "text/plain": [
       "3     2269\n",
       "2     1469\n",
       "4      998\n",
       "5      481\n",
       "6      246\n",
       "10      92\n",
       "7       88\n",
       "8       76\n",
       "Name: Prior_purchases, dtype: int64"
      ]
     },
     "execution_count": 29,
     "metadata": {},
     "output_type": "execute_result"
    }
   ],
   "source": [
    "#Contamos las compras previas que efectuo el cliente para los casos de que el envio llego a tiempo\n",
    "\n",
    "df[\"Prior_purchases\"][ontime].value_counts()"
   ]
  },
  {
   "cell_type": "code",
   "execution_count": 30,
   "metadata": {},
   "outputs": [
    {
     "data": {
      "text/plain": [
       "3     1078\n",
       "2      770\n",
       "4      754\n",
       "5      382\n",
       "6      156\n",
       "10      60\n",
       "8       42\n",
       "7       38\n",
       "Name: Prior_purchases, dtype: int64"
      ]
     },
     "execution_count": 30,
     "metadata": {},
     "output_type": "execute_result"
    }
   ],
   "source": [
    "#Contamos las compras previas que efectuo el cliente para los casos de que el envio no llego a tiempo\n",
    "\n",
    "df[\"Prior_purchases\"][offtime].value_counts()"
   ]
  },
  {
   "cell_type": "markdown",
   "metadata": {},
   "source": [
    "### Graficamos su distribución en barras separadas, por cantidad de envios que no llegaron a tiempo y que si llegaron a tiempo:<br>"
   ]
  },
  {
   "cell_type": "code",
   "execution_count": 31,
   "metadata": {},
   "outputs": [
    {
     "data": {
      "image/png": "[encoded data removed]",
      "text/plain": [
       "<Figure size 432x288 with 1 Axes>"
      ]
     },
     "metadata": {
      "needs_background": "light"
     },
     "output_type": "display_data"
    }
   ],
   "source": [
    "sns.countplot(data=df, x=\"Prior_purchases\", hue=\"Reached.on.Time_Y.N\")\n",
    "plt.show()"
   ]
  },
  {
   "cell_type": "markdown",
   "metadata": {},
   "source": [
    "### Graficamos su distribución en diagrama de torta, vemos el porcentaje de envios segun compras previas efectuadas:<br>"
   ]
  },
  {
   "cell_type": "code",
   "execution_count": 32,
   "metadata": {},
   "outputs": [
    {
     "data": {
      "image/png": "[encoded data removed]",
      "text/plain": [
       "<Figure size 432x432 with 1 Axes>"
      ]
     },
     "metadata": {},
     "output_type": "display_data"
    }
   ],
   "source": [
    "imp=df[\"Prior_purchases\"].value_counts().reset_index() \n",
    "imp.columns=[\"Prioridad\",\"Cant\"]\n",
    "imp=imp.sort_values(\"Prioridad\").reset_index().drop([\"index\"], axis=1)\n",
    "fig = plt.figure(figsize = (6, 6), facecolor=\"white\")\n",
    "colors= sns.color_palette('tab10')\n",
    "plt.pie(imp[\"Cant\"], labels=imp[\"Prioridad\"], colors = colors, autopct='%.0f%%')\n",
    "plt.show()"
   ]
  },
  {
   "cell_type": "markdown",
   "metadata": {},
   "source": [
    "### Ahora vemos que porcentaje de envios segun las compras previas efectuadas no llego a tiempo:"
   ]
  },
  {
   "cell_type": "code",
   "execution_count": 34,
   "metadata": {},
   "outputs": [
    {
     "data": {
      "image/png": "[encoded data removed]",
      "text/plain": [
       "<Figure size 432x288 with 1 Axes>"
      ]
     },
     "metadata": {
      "needs_background": "light"
     },
     "output_type": "display_data"
    },
    {
     "name": "stdout",
     "output_type": "stream",
     "text": [
      "Porcentaje envios tardios para 'Prioridad 2' : 34.4 %\n",
      "Porcentaje envios tardios para 'Prioridad 3' : 32.2 %\n",
      "Porcentaje envios tardios para 'Prioridad 4' : 43.0 %\n",
      "Porcentaje envios tardios para 'Prioridad 5' : 44.3 %\n",
      "Porcentaje envios tardios para 'Prioridad 6' : 38.8 %\n",
      "Porcentaje envios tardios para 'Prioridad 7' : 30.2 %\n",
      "Porcentaje envios tardios para 'Prioridad 8' : 35.6 %\n",
      "Porcentaje envios tardios para 'Prioridad 10': 39.5 %\n"
     ]
    }
   ],
   "source": [
    "prioridad_no=df[\"Prior_purchases\"][offtime].value_counts().reset_index() #contar solo envios que no llegan desde la columna \"Customer_rating\"\n",
    "prioridad_no.columns=[\"Prioridad\",\"Cant\"] #nombro las columnas\n",
    "prioridad_no=prioridad_no.sort_values(\"Prioridad\").reset_index().drop([\"index\"], axis=1)\n",
    "ax=sns.barplot(x=imp[\"Prioridad\"], y=(prioridad_no[\"Cant\"]/imp[\"Cant\"]*100)).set_ylabel(\"Porcentaje de envios tardios\")\n",
    "plt.show()\n",
    "print (\"Porcentaje envios tardios para 'Prioridad 2' :\", round((prioridad_no[\"Cant\"][0]/imp[\"Cant\"][0]*100),1), \"%\")\n",
    "print (\"Porcentaje envios tardios para 'Prioridad 3' :\", round((prioridad_no[\"Cant\"][1]/imp[\"Cant\"][1]*100),1), \"%\")\n",
    "print (\"Porcentaje envios tardios para 'Prioridad 4' :\", round((prioridad_no[\"Cant\"][2]/imp[\"Cant\"][2]*100),1), \"%\")\n",
    "print (\"Porcentaje envios tardios para 'Prioridad 5' :\", round((prioridad_no[\"Cant\"][3]/imp[\"Cant\"][3]*100),1), \"%\")\n",
    "print (\"Porcentaje envios tardios para 'Prioridad 6' :\", round((prioridad_no[\"Cant\"][4]/imp[\"Cant\"][4]*100),1), \"%\")\n",
    "print (\"Porcentaje envios tardios para 'Prioridad 7' :\", round((prioridad_no[\"Cant\"][5]/imp[\"Cant\"][5]*100),1), \"%\")\n",
    "print (\"Porcentaje envios tardios para 'Prioridad 8' :\", round((prioridad_no[\"Cant\"][6]/imp[\"Cant\"][6]*100),1), \"%\")\n",
    "print (\"Porcentaje envios tardios para 'Prioridad 10':\", round((prioridad_no[\"Cant\"][7]/imp[\"Cant\"][7]*100),1), \"%\")"
   ]
  },
  {
   "cell_type": "markdown",
   "metadata": {},
   "source": [
    "Observamos que, si bien las compras previas no está distribuida de forma proporcional, no se ve una clara tendencia a la disminucion o aumento de envios tardios acorde a las compras previas efectuadas.<br>"
   ]
  },
  {
   "cell_type": "markdown",
   "metadata": {},
   "source": [
    "### Columna \"Product_importance\" (Importancia del producto)\n",
    "\n",
    "-Como se puede observar esta columna nos indica la importancia del producto que se envia en cada transaccion.<br>\n",
    "Encontramos que la importacia del producto toma tres valores:\n",
    "- low : importancia baja.\n",
    "- medium : importancia media.\n",
    "- high: importancia alta."
   ]
  },
  {
   "cell_type": "code",
   "execution_count": 35,
   "metadata": {},
   "outputs": [
    {
     "data": {
      "text/plain": [
       "array(['low', 'medium', 'high'], dtype=object)"
      ]
     },
     "execution_count": 35,
     "metadata": {},
     "output_type": "execute_result"
    }
   ],
   "source": [
    "#vemos los valores que puede tomar la variable\n",
    "\n",
    "df[\"Product_importance\"].unique()"
   ]
  },
  {
   "cell_type": "code",
   "execution_count": 36,
   "metadata": {},
   "outputs": [
    {
     "data": {
      "text/plain": [
       "low       4308\n",
       "medium    3858\n",
       "high       833\n",
       "Name: Product_importance, dtype: int64"
      ]
     },
     "execution_count": 36,
     "metadata": {},
     "output_type": "execute_result"
    }
   ],
   "source": [
    "#contamos los valores de importancia para cada envio\n",
    "\n",
    "df[\"Product_importance\"].value_counts()"
   ]
  },
  {
   "cell_type": "code",
   "execution_count": 37,
   "metadata": {},
   "outputs": [
    {
     "data": {
      "text/plain": [
       "low       2722\n",
       "medium    2443\n",
       "high       554\n",
       "Name: Product_importance, dtype: int64"
      ]
     },
     "execution_count": 37,
     "metadata": {},
     "output_type": "execute_result"
    }
   ],
   "source": [
    "#Contamos los valores que llegaron a tiempo segun la importancia\n",
    "\n",
    "df[\"Product_importance\"][ontime].value_counts()"
   ]
  },
  {
   "cell_type": "code",
   "execution_count": 38,
   "metadata": {},
   "outputs": [
    {
     "data": {
      "text/plain": [
       "low       1586\n",
       "medium    1415\n",
       "high       279\n",
       "Name: Product_importance, dtype: int64"
      ]
     },
     "execution_count": 38,
     "metadata": {},
     "output_type": "execute_result"
    }
   ],
   "source": [
    "#Contamos los valores que no llegaron a tiempo segun la importancia\n",
    "\n",
    "df[\"Product_importance\"][offtime].value_counts()"
   ]
  },
  {
   "cell_type": "markdown",
   "metadata": {},
   "source": [
    "### Graficamos su distribución en barras separadas, por cantidad de envios que no llegaron a tiempo y que si llegaron a tiempo:<br>"
   ]
  },
  {
   "cell_type": "code",
   "execution_count": 39,
   "metadata": {},
   "outputs": [
    {
     "data": {
      "image/png": "[encoded data removed]",
      "text/plain": [
       "<Figure size 432x288 with 1 Axes>"
      ]
     },
     "metadata": {
      "needs_background": "light"
     },
     "output_type": "display_data"
    }
   ],
   "source": [
    "sns.countplot(data=df, x=\"Product_importance\", hue=\"Reached.on.Time_Y.N\")\n",
    "plt.show()"
   ]
  },
  {
   "cell_type": "markdown",
   "metadata": {},
   "source": [
    "### Graficamos su distribución en diagrama de torta, vemos el porcentaje de envios segun la importancia:<br>"
   ]
  },
  {
   "cell_type": "code",
   "execution_count": 56,
   "metadata": {},
   "outputs": [
    {
     "data": {
      "image/png": "[encoded data removed]",
      "text/plain": [
       "<Figure size 432x432 with 1 Axes>"
      ]
     },
     "metadata": {},
     "output_type": "display_data"
    }
   ],
   "source": [
    "genero=df[\"Product_importance\"].value_counts().reset_index() \n",
    "genero.columns=[\"Importancia\",\"Cant\"]\n",
    "genero=genero.sort_values(\"Importancia\").reset_index().drop([\"index\"], axis=1)\n",
    "fig = plt.figure(figsize = (6, 6), facecolor=\"white\")\n",
    "colors= sns.color_palette('tab10')\n",
    "plt.pie(genero[\"Cant\"], labels=genero[\"Importancia\"], colors = colors, autopct='%.0f%%')\n",
    "plt.show()"
   ]
  },
  {
   "cell_type": "markdown",
   "metadata": {},
   "source": [
    "La importacia Baja y Media ocupa el 91% de los envios."
   ]
  },
  {
   "cell_type": "markdown",
   "metadata": {},
   "source": [
    "### Ahora vemos que porcentaje de envios segun su importancia no llego a tiempo:"
   ]
  },
  {
   "cell_type": "code",
   "execution_count": 44,
   "metadata": {},
   "outputs": [
    {
     "data": {
      "image/png": "[encoded data removed]",
      "text/plain": [
       "<Figure size 432x288 with 1 Axes>"
      ]
     },
     "metadata": {
      "needs_background": "light"
     },
     "output_type": "display_data"
    },
    {
     "name": "stdout",
     "output_type": "stream",
     "text": [
      "Porcentaje envios tardios para 'High'  : 33.5 %\n",
      "Porcentaje envios tardios para 'Medium': 36.7 %\n",
      "Porcentaje envios tardios para 'Low'   : 36.8 %\n"
     ]
    }
   ],
   "source": [
    "imp_no=df[\"Product_importance\"][offtime].value_counts().reset_index() #contar solo envios que no llegan desde la columna \"Customer_rating\"\n",
    "imp_no.columns=[\"Importancia\",\"Cant\"] #nombro las columnas\n",
    "imp_no=imp_no.sort_values(\"Importancia\").reset_index().drop([\"index\"], axis=1)\n",
    "ax=sns.barplot(x=genero[\"Importancia\"], y=(imp_no[\"Cant\"]/genero[\"Cant\"]*100)).set_ylabel(\"Porcentaje de envios tardios\")\n",
    "plt.show()\n",
    "print (\"Porcentaje envios tardios para 'High'  :\", round((imp_no[\"Cant\"][0]/genero[\"Cant\"][0]*100),1), \"%\")\n",
    "print (\"Porcentaje envios tardios para 'Medium':\", round((imp_no[\"Cant\"][2]/genero[\"Cant\"][2]*100),1), \"%\")\n",
    "print (\"Porcentaje envios tardios para 'Low'   :\", round((imp_no[\"Cant\"][1]/genero[\"Cant\"][1]*100),1), \"%\")"
   ]
  },
  {
   "cell_type": "markdown",
   "metadata": {},
   "source": [
    "Podemos observar un pequeño aumento en los envios tardios para los envios con importacia Media y Baja.<br>\n",
    "Además se observa una pequeña disminucion de envios tardios con importancia Alta."
   ]
  },
  {
   "cell_type": "markdown",
   "metadata": {},
   "source": [
    "### Columna \"Gender\" (Género)\n",
    "\n",
    "-Como se puede observar esta columna nos indica el género del cliente para cada transaccion.<br>\n",
    "Encontramos que el género toma 2 valores:\n",
    "- F : Femenino.\n",
    "- M : Masculino."
   ]
  },
  {
   "cell_type": "code",
   "execution_count": 45,
   "metadata": {},
   "outputs": [
    {
     "data": {
      "text/plain": [
       "array(['F', 'M'], dtype=object)"
      ]
     },
     "execution_count": 45,
     "metadata": {},
     "output_type": "execute_result"
    }
   ],
   "source": [
    "#vemos los valores que puede tomar la variable\n",
    "\n",
    "df[\"Gender\"].unique()"
   ]
  },
  {
   "cell_type": "code",
   "execution_count": 47,
   "metadata": {},
   "outputs": [
    {
     "data": {
      "text/plain": [
       "F    4540\n",
       "M    4459\n",
       "Name: Gender, dtype: int64"
      ]
     },
     "execution_count": 47,
     "metadata": {},
     "output_type": "execute_result"
    }
   ],
   "source": [
    "#contamos los valores de genero para cada envio\n",
    "\n",
    "df[\"Gender\"].value_counts()"
   ]
  },
  {
   "cell_type": "code",
   "execution_count": 49,
   "metadata": {},
   "outputs": [
    {
     "data": {
      "text/plain": [
       "F    2879\n",
       "M    2840\n",
       "Name: Gender, dtype: int64"
      ]
     },
     "execution_count": 49,
     "metadata": {},
     "output_type": "execute_result"
    }
   ],
   "source": [
    "#Contamos los valores que llegaron a tiempo segun el género\n",
    "\n",
    "df[\"Gender\"][ontime].value_counts()"
   ]
  },
  {
   "cell_type": "code",
   "execution_count": 50,
   "metadata": {},
   "outputs": [
    {
     "data": {
      "text/plain": [
       "F    1661\n",
       "M    1619\n",
       "Name: Gender, dtype: int64"
      ]
     },
     "execution_count": 50,
     "metadata": {},
     "output_type": "execute_result"
    }
   ],
   "source": [
    "#Contamos los valores que no llegaron a tiempo segun el género\n",
    "\n",
    "df[\"Gender\"][offtime].value_counts()"
   ]
  },
  {
   "cell_type": "markdown",
   "metadata": {},
   "source": [
    "### Graficamos su distribución en barras separadas, por cantidad de envios que no llegaron a tiempo y que si llegaron a tiempo:<br>"
   ]
  },
  {
   "cell_type": "code",
   "execution_count": 51,
   "metadata": {},
   "outputs": [
    {
     "data": {
      "image/png": "[encoded data removed]",
      "text/plain": [
       "<Figure size 432x288 with 1 Axes>"
      ]
     },
     "metadata": {
      "needs_background": "light"
     },
     "output_type": "display_data"
    }
   ],
   "source": [
    "sns.countplot(data=df, x=\"Gender\", hue=\"Reached.on.Time_Y.N\")\n",
    "plt.show()"
   ]
  },
  {
   "cell_type": "markdown",
   "metadata": {},
   "source": [
    "### Graficamos su distribución en diagrama de torta, vemos el porcentaje de envios segun el género:<br>"
   ]
  },
  {
   "cell_type": "code",
   "execution_count": 57,
   "metadata": {},
   "outputs": [
    {
     "data": {
      "image/png": "[encoded data removed]",
      "text/plain": [
       "<Figure size 432x432 with 1 Axes>"
      ]
     },
     "metadata": {},
     "output_type": "display_data"
    }
   ],
   "source": [
    "genero=df[\"Gender\"].value_counts().reset_index() \n",
    "genero.columns=[\"Genero\",\"Cant\"]\n",
    "genero=genero.sort_values(\"Genero\").reset_index().drop([\"index\"], axis=1)\n",
    "fig = plt.figure(figsize = (6, 6), facecolor=\"white\")\n",
    "colors= sns.color_palette('tab10')\n",
    "plt.pie(genero[\"Cant\"], labels=genero[\"Genero\"], colors = colors, autopct='%.0f%%')\n",
    "plt.show()"
   ]
  },
  {
   "cell_type": "markdown",
   "metadata": {},
   "source": [
    "Podemos apreciar que la mitad de las compras son efectuadas por Mujeres y la otra mitad por Hombres."
   ]
  },
  {
   "cell_type": "markdown",
   "metadata": {},
   "source": [
    "### Ahora vemos que porcentaje de envios segun el genero no llego a tiempo:"
   ]
  },
  {
   "cell_type": "code",
   "execution_count": 59,
   "metadata": {},
   "outputs": [
    {
     "data": {
      "image/png": "[encoded data removed]",
      "text/plain": [
       "<Figure size 432x288 with 1 Axes>"
      ]
     },
     "metadata": {
      "needs_background": "light"
     },
     "output_type": "display_data"
    },
    {
     "name": "stdout",
     "output_type": "stream",
     "text": [
      "Porcentaje envios tardios para 'F': 36.6 %\n",
      "Porcentaje envios tardios para 'M': 36.3 %\n"
     ]
    }
   ],
   "source": [
    "genero_no=df[\"Gender\"][offtime].value_counts().reset_index() #contar solo envios que no llegan desde la columna \"Customer_rating\"\n",
    "genero_no.columns=[\"Genero\",\"Cant\"] #nombro las columnas\n",
    "genero_no=genero_no.sort_values(\"Genero\").reset_index().drop([\"index\"], axis=1)\n",
    "ax=sns.barplot(x=genero[\"Genero\"], y=(genero_no[\"Cant\"]/genero[\"Cant\"]*100)).set_ylabel(\"Porcentaje de envios tardios\")\n",
    "plt.show()\n",
    "print (\"Porcentaje envios tardios para 'F':\", round((genero_no[\"Cant\"][0]/genero[\"Cant\"][0]*100),1), \"%\")\n",
    "print (\"Porcentaje envios tardios para 'M':\", round((genero_no[\"Cant\"][1]/genero[\"Cant\"][1]*100),1), \"%\")"
   ]
  },
  {
   "cell_type": "markdown",
   "metadata": {},
   "source": [
    "Observamos que el porcentaje de envios tardios, tanto para el genero F como para el M es el mismo, por lo tanto y como era de esperar, el genero no influye directamente en si el envio va allegar a tiempo o no."
   ]
  },
  {
   "cell_type": "markdown",
   "metadata": {},
   "source": [
    "### Columna \"Discount_offered\" (Descuentos ofrecidos)\n",
    "\n",
    "-Como se puede observar esta columna nos indica los descuentos ofrecidos sobre el producto que se envia en cada transaccion.<br>\n",
    "Encontramos que el descuento es una variable continua que varía entre 1 y 65.\n"
   ]
  },
  {
   "cell_type": "code",
   "execution_count": 60,
   "metadata": {},
   "outputs": [
    {
     "data": {
      "text/plain": [
       "array([44, 59, 48, 10, 46, 12,  3, 11, 29, 32,  1, 43, 45,  6, 36, 18, 38,\n",
       "       51,  2, 28, 24, 31, 61, 22,  4, 62, 16, 56, 15,  9, 40, 37, 41, 17,\n",
       "       64, 52, 49, 39, 14, 33, 21, 13, 23, 26, 57,  7, 35,  8,  5, 53, 55,\n",
       "       47, 65, 25, 50, 60, 20, 19, 63, 58, 34, 54, 27, 42, 30],\n",
       "      dtype=int64)"
      ]
     },
     "execution_count": 60,
     "metadata": {},
     "output_type": "execute_result"
    }
   ],
   "source": [
    "#vemos los valores que puede tomar la variable\n",
    "\n",
    "df[\"Discount_offered\"].unique()"
   ]
  },
  {
   "cell_type": "code",
   "execution_count": 61,
   "metadata": {},
   "outputs": [
    {
     "data": {
      "text/plain": [
       "(65, 1)"
      ]
     },
     "execution_count": 61,
     "metadata": {},
     "output_type": "execute_result"
    }
   ],
   "source": [
    "#Vemos los valores max y min que alcanza la variable\n",
    "df[\"Discount_offered\"].max(), df[\"Discount_offered\"].min()"
   ]
  },
  {
   "cell_type": "code",
   "execution_count": 8,
   "metadata": {},
   "outputs": [
    {
     "data": {
      "image/png": "[encoded data removed]",
      "text/plain": [
       "<Figure size 432x288 with 1 Axes>"
      ]
     },
     "metadata": {
      "needs_background": "light"
     },
     "output_type": "display_data"
    }
   ],
   "source": [
    "#Buscamos outliers\n",
    "sns.boxplot(x = 'Discount_offered', data =df)\n",
    "plt.show()"
   ]
  },
  {
   "cell_type": "code",
   "execution_count": 15,
   "metadata": {},
   "outputs": [
    {
     "name": "stdout",
     "output_type": "stream",
     "text": [
      "41.5\n",
      "Cantidad de registros totales: 8999\n",
      "Cantidad de outliers: 1193\n"
     ]
    }
   ],
   "source": [
    "#Utilizaremos la técnica del rango intercuartílico para eliminar outliers.\n",
    "\n",
    "Q1 = df['Discount_offered'].quantile(0.25)\n",
    "Q3 = df['Discount_offered'].quantile(0.75)\n",
    "IQR = Q3 - Q1\n",
    "BS = Q3 + 1.5*IQR\n",
    "print(BS)\n",
    "print('Cantidad de registros totales:', df.shape[0])\n",
    "print('Cantidad de outliers:', df[(df['Discount_offered']>BS)].shape[0] )"
   ]
  },
  {
   "cell_type": "markdown",
   "metadata": {},
   "source": [
    "La cantidad de outlier es muy alta, se procederan a borrar los registros en caso de utilizar dicha variable"
   ]
  },
  {
   "cell_type": "markdown",
   "metadata": {},
   "source": [
    "### Graficamos su distribución:<br>"
   ]
  },
  {
   "cell_type": "code",
   "execution_count": 64,
   "metadata": {},
   "outputs": [
    {
     "data": {
      "image/png": "[encoded data removed]",
      "text/plain": [
       "<Figure size 432x288 with 1 Axes>"
      ]
     },
     "metadata": {
      "needs_background": "light"
     },
     "output_type": "display_data"
    }
   ],
   "source": [
    "sns.histplot(data=df, x=\"Discount_offered\", bins=10)\n",
    "plt.show()"
   ]
  },
  {
   "cell_type": "markdown",
   "metadata": {},
   "source": [
    "### Graficamos su distribución teniendo en cuenta cuales llegaron a destino a tiempo y cuales no:<br>"
   ]
  },
  {
   "cell_type": "code",
   "execution_count": 65,
   "metadata": {},
   "outputs": [
    {
     "data": {
      "image/png": "[encoded data removed]",
      "text/plain": [
       "<Figure size 432x288 with 1 Axes>"
      ]
     },
     "metadata": {
      "needs_background": "light"
     },
     "output_type": "display_data"
    }
   ],
   "source": [
    "sns.histplot(data=df, x=\"Discount_offered\", hue=\"Reached.on.Time_Y.N\", bins=10)\n",
    "plt.show()"
   ]
  },
  {
   "cell_type": "markdown",
   "metadata": {},
   "source": [
    "Se observa que a medida que aumentan los descuentos, disminuye la cantidad de envios que no llegan a tiempo.<br>\n",
    "Por otro lado, los productos con menores descuentos tienden a no llegar a tiempo."
   ]
  },
  {
   "cell_type": "markdown",
   "metadata": {},
   "source": [
    "### Columna \"Weight_in_gms\" (Peso en Gramos)\n",
    "\n",
    "-Como se puede observar esta columna nos indica el peso en gramos del producto que se envia en cada transaccion.<br>\n",
    "Encontramos que el peso en gramos es una variable continua que varía entre 1001 y 7846 grms.\n"
   ]
  },
  {
   "cell_type": "code",
   "execution_count": 66,
   "metadata": {},
   "outputs": [
    {
     "data": {
      "text/plain": [
       "array([1233, 3088, 3374, ..., 4748, 4368, 5648], dtype=int64)"
      ]
     },
     "execution_count": 66,
     "metadata": {},
     "output_type": "execute_result"
    }
   ],
   "source": [
    "#vemos los valores que puede tomar la variable\n",
    "\n",
    "df[\"Weight_in_gms\"].unique()"
   ]
  },
  {
   "cell_type": "code",
   "execution_count": 67,
   "metadata": {},
   "outputs": [
    {
     "data": {
      "text/plain": [
       "(7846, 1001)"
      ]
     },
     "execution_count": 67,
     "metadata": {},
     "output_type": "execute_result"
    }
   ],
   "source": [
    "#Vemos los valores max y min que alcanza la variable\n",
    "df[\"Weight_in_gms\"].max(), df[\"Weight_in_gms\"].min()"
   ]
  },
  {
   "cell_type": "code",
   "execution_count": 16,
   "metadata": {},
   "outputs": [
    {
     "data": {
      "image/png": "[encoded data removed]",
      "text/plain": [
       "<Figure size 432x288 with 1 Axes>"
      ]
     },
     "metadata": {
      "needs_background": "light"
     },
     "output_type": "display_data"
    }
   ],
   "source": [
    "#Buscamos outliers\n",
    "sns.boxplot(x = 'Weight_in_gms', data =df)\n",
    "plt.show()"
   ]
  },
  {
   "cell_type": "markdown",
   "metadata": {},
   "source": [
    "### Graficamos su distribución:<br>"
   ]
  },
  {
   "cell_type": "code",
   "execution_count": 74,
   "metadata": {},
   "outputs": [
    {
     "data": {
      "image/png": "[encoded data removed]",
      "text/plain": [
       "<Figure size 432x288 with 1 Axes>"
      ]
     },
     "metadata": {
      "needs_background": "light"
     },
     "output_type": "display_data"
    }
   ],
   "source": [
    "sns.histplot(data=df, x=\"Weight_in_gms\", bins=7)\n",
    "plt.show()"
   ]
  },
  {
   "cell_type": "markdown",
   "metadata": {},
   "source": [
    "### Graficamos su distribución teniendo en cuenta cuales llegaron a destino a tiempo y cuales no:<br>"
   ]
  },
  {
   "cell_type": "code",
   "execution_count": 76,
   "metadata": {},
   "outputs": [
    {
     "data": {
      "image/png": "[encoded data removed]",
      "text/plain": [
       "<Figure size 432x288 with 1 Axes>"
      ]
     },
     "metadata": {
      "needs_background": "light"
     },
     "output_type": "display_data"
    }
   ],
   "source": [
    "sns.histplot(data=df, x=\"Weight_in_gms\", hue=\"Reached.on.Time_Y.N\", bins=7)\n",
    "plt.show()"
   ]
  },
  {
   "cell_type": "markdown",
   "metadata": {},
   "source": [
    "Al parecer, cuando el producto pesa más de 4000grms hay una tendencia a que el producto no llegue a tiempo"
   ]
  },
  {
   "cell_type": "markdown",
   "metadata": {},
   "source": [
    "# Conclusiones:\n",
    "\n",
    "- La columna \"ID\" no contiene datos relevantes para el estudio, por lo tanto se elimina.\n",
    "- La columna \"Warehouse_block\" contiene datos que podrían confundir al modelo ya que no hay una clara relación con nuestro objetivo, por lo tanto no se tendrá en cuenta.\n",
    "- La columna \"Mode_of_shipment\" será tenida en cuenta ya que el tipo de envio esta relacionado a si el envio llega a tiempo o no.\n",
    "- La columna \"Customer_care_calls\" será tenida en cuenta, por lo observado en el analisis, está relacionada con nuestro objetivo.\n",
    "- La columna \"Customer_rating\" no será tenida en cuenta ya que no aporta datos significantes.\n",
    "- La columna \"Cost_of_the_Product\" se correlaciona con nuestro objentivo, por lo tanto será tenida en cuenta en un principio.\n",
    "- La columna \"Prior_purchases\" no será tenida en cuenta ya que no aporta datos significantes ni está relacionada al objetivo.\n",
    "- La columna \"Product_importance\" no será tenida en cuenta ya que no aporta datos significantes y puede desbalancer nuestro modelo.\n",
    "- La columna \"Gender\" no será tenida en cuenta, es irrelevante.\n",
    "- La columna \"Discount_offered\", en un principio, será tenida en cuenta para la creacion del modelo ya que muestra una relacion que puede ser util con nuestro objetivo.\n",
    "- La columna \"Weight_in_gms\" se tendrá en cuenta para el analisis ya que afecta a nuestro objetivo."
   ]
  },
  {
   "cell_type": "markdown",
   "metadata": {},
   "source": [
    "## EN EL ARCHIVO DATATHON(ML) SE ENCUENTRA EL DESARROLLO DEL MODELO DE ML"
   ]
  }
 ],
 "metadata": {
  "kernelspec": {
   "display_name": "Python 3.10.4 64-bit",
   "language": "python",
   "name": "python3"
  },
  "language_info": {
   "codemirror_mode": {
    "name": "ipython",
    "version": 3
   },
   "file_extension": ".py",
   "mimetype": "text/x-python",
   "name": "python",
   "nbconvert_exporter": "python",
   "pygments_lexer": "ipython3",
   "version": "3.10.4"
  },
  "orig_nbformat": 4,
  "vscode": {
   "interpreter": {
    "hash": "ab0a434546fac9238be3e836789449cd243459f6a6f70db43316c83d1fee2cb6"
   }
  }
 },
 "nbformat": 4,
 "nbformat_minor": 2
}
